{
 "cells": [
  {
   "cell_type": "markdown",
   "metadata": {},
   "source": [
    "**Q1. What is data encoding? How is it useful in data science?**"
   ]
  },
  {
   "cell_type": "markdown",
   "metadata": {},
   "source": [
    "Data Encoding refers to the Process of converting Categorical Data to Numerical Data so that the model will able to understand the Data for specific purpose.\n",
    "\n",
    "In the field of Data Science Data Encoding is useful in:\n",
    "1. In real-world datasets, you often encounter categorical data such as colors, names, or labels. These cannot be directly fed into algorithms. Encoding these categorical variables into numerical values allows algorithms to use them effectively for making predictions or classifications.\n",
    "2. Some encoding techniques, like one-hot encoding, create binary columns representing the presence or absence of a specific category. This can make the resulting models more interpretable, as you can see how the presence of a certain category affects the outcome.\n",
    "3. Properly encoded data can lead to improved model performance. When the algorithm understands the data structure well, it can make better predictions and generalizations."
   ]
  },
  {
   "cell_type": "markdown",
   "metadata": {},
   "source": [
    "**Q2. What is nominal encoding? Provide an example of how you would use it in a real-world scenario.**"
   ]
  },
  {
   "cell_type": "markdown",
   "metadata": {},
   "source": [
    "One hot encoding, also known as nominal encoding, is a technique used to represent categorical data as numerical data, which is more suitable for machine learning algorithms. In this technique, each category is represented as a binary vector where each bit corresponds to a unique category. \n",
    "\n",
    "For example, if we have a categorical variable \"color\" with three possible values (red, green, blue), we can represent it using one hot encoding as follows:\n",
    "\n",
    "1. Red: [1, 0, 0]\n",
    "2. Green: [0, 1, 0]\n",
    "3. Blue: [0, 0, 1]"
   ]
  },
  {
   "cell_type": "markdown",
   "metadata": {},
   "source": [
    "**Q3. In what situations is nominal encoding preferred over one-hot encoding? Provide a practical example.**\n"
   ]
  },
  {
   "cell_type": "markdown",
   "metadata": {},
   "source": [
    "One-hot encoding can result in a significant increase in the dimensionality of the dataset, especially when dealing with categorical variables that have a large number of unique categories. In such cases, using one-hot encoding can lead to a sparse and high-dimensional feature space,Nominal Encoding on the other hand, represents categories with numerical labels, reducing the dimensionality to a single column."
   ]
  },
  {
   "cell_type": "markdown",
   "metadata": {},
   "source": [
    "**Q4. Suppose you have a dataset containing categorical data with 5 unique values. Which encoding technique would you use to transform this data into a format suitable for machine learning algorithms? Explain why you made this choice.**"
   ]
  },
  {
   "cell_type": "markdown",
   "metadata": {},
   "source": [
    "If I have a dataset containing categorical data with 5 unique values, I would use one-hot encoding to transform this data into a format suitable for machine learning algorithms.\n",
    "\n",
    "One-hot encoding is a technique that creates a new binary feature for each unique category in a categorical variable. For example, if a categorical variable has 5 unique values, then one-hot encoding will create 5 new binary features. Each new feature will be 1 if the corresponding row in the original column has the corresponding category, and 0 otherwise"
   ]
  },
  {
   "cell_type": "markdown",
   "metadata": {},
   "source": [
    "**Q5. In a machine learning project, you have a dataset with 1000 rows and 5 columns. Two of the columns are categorical, and the remaining three columns are numerical. If you were to use nominal encoding to transform the categorical data, how many new columns would be created? Show your calculations.**"
   ]
  },
  {
   "cell_type": "markdown",
   "metadata": {},
   "source": [
    "Here are the steps involved in calculating the number of new columns:\n",
    "\n",
    "1. Find the number of unique categories in each categorical column.\n",
    "2. Multiply the number of unique categories in each column by the number of categorical columns.\n",
    "\n",
    "In this case, the number of unique categories in each column is 3. So, the number of new columns is 2 * 3 = 6."
   ]
  },
  {
   "cell_type": "markdown",
   "metadata": {},
   "source": [
    "**Q6. You are working with a dataset containing information about different types of animals, including their species, habitat, and diet. Which encoding technique would you use to transform the categorical data into a format suitable for machine learning algorithms? Justify your answer.**"
   ]
  },
  {
   "cell_type": "markdown",
   "metadata": {},
   "source": [
    "In the case of the dataset containing information about different types of animals, the categories of the species, habitat, and diet variables do not have a natural ordering. Therefore, I would use one-hot encoding to transform these variables into a format suitable for machine learning algorithms."
   ]
  },
  {
   "cell_type": "markdown",
   "metadata": {},
   "source": [
    "**Q7.You are working on a project that involves predicting customer churn for a telecommunications company. You have a dataset with 5 features, including the customer's gender, age, contract type, monthly charges, and tenure. Which encoding technique(s) would you use to transform the categorical data into numerical data? Provide a step-by-step explanation of how you would implement the encoding.**"
   ]
  },
  {
   "cell_type": "markdown",
   "metadata": {},
   "source": [
    "In the given dataset their are only 2 feature containing Categorical data:\n",
    "\n",
    "i) Customer's Gender: This is a categorical feature with two categories: male and female. I would use label encoding to encode this feature. Label encoding assigns each category a unique integer value.\n",
    "\n",
    "ii) Contract: This is a categorical feature with three categories: month-to-month, one-year, and two-year. I would use one-hot encoding to encode this feature. One-hot encoding creates a new binary feature for each unique category in a categorical variable. "
   ]
  }
 ],
 "metadata": {
  "kernelspec": {
   "display_name": "Python 3",
   "language": "python",
   "name": "python3"
  },
  "language_info": {
   "codemirror_mode": {
    "name": "ipython",
    "version": 3
   },
   "file_extension": ".py",
   "mimetype": "text/x-python",
   "name": "python",
   "nbconvert_exporter": "python",
   "pygments_lexer": "ipython3",
   "version": "3.11.2"
  },
  "orig_nbformat": 4
 },
 "nbformat": 4,
 "nbformat_minor": 2
}
