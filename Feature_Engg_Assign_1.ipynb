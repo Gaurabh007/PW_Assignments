{
 "cells": [
  {
   "attachments": {},
   "cell_type": "markdown",
   "metadata": {},
   "source": [
    "**Q1: What are missing values in a dataset? Why is it essential to handle missing values? Name some\n",
    "algorithms that are not affected by missing values.**"
   ]
  },
  {
   "attachments": {},
   "cell_type": "markdown",
   "metadata": {},
   "source": [
    "Missing values are those data points that absent from the dataset. Their can be various reasons for missing data like data entry error, users does't want to share personal info of any particular parameter,etc. It is very essential to handle missing data because it can effect the quality and meaning of the machine learning models. It can result to inaccurate results, baisness in the model.\n",
    "Some algorithms that are not affected by missing values are:\n",
    "1. Decision Tree\n",
    "2. Random Forest"
   ]
  },
  {
   "attachments": {},
   "cell_type": "markdown",
   "metadata": {},
   "source": [
    "**Q2: List down techniques used to handle missing data. Give an example of each with python code.**"
   ]
  },
  {
   "attachments": {},
   "cell_type": "markdown",
   "metadata": {},
   "source": [
    "Technique used to handle missing data:\n",
    "1. Firstly, We can simply remove the entire row or column where missing value is found. This approach is not considered as the best way as it leads to deletion of some important data.\n",
    "2. Secondly, We can perform Imputation like Mean, Median, Mode.\n",
    "\n",
    "a. Mean- It works well when we have normally distributed distribution.\n",
    "\n",
    "b. Median- It works well when we have outliers in the dataset.\n",
    "\n",
    "c. Mode-  It works well when we have Categorical data.\n"
   ]
  },
  {
   "attachments": {},
   "cell_type": "markdown",
   "metadata": {},
   "source": [
    "**Q3: Explain the imbalanced data. What will happen if imbalanced data is not handled?**"
   ]
  },
  {
   "attachments": {},
   "cell_type": "markdown",
   "metadata": {},
   "source": [
    "Imbalance data refers to a picture where any two category samples are not equally distributed in the dataset. Some category have large number of samples than the others. This is lead to false prediction of the model as it is baised to one category only.\n",
    "To solve these situation there are two technique:\n",
    "1. Up sampling\n",
    "2. Down sampling"
   ]
  },
  {
   "attachments": {},
   "cell_type": "markdown",
   "metadata": {},
   "source": [
    "**Q4: What are Up-sampling and Down-sampling? Explain with an example when up-sampling and down-\n",
    "sampling are required.**"
   ]
  },
  {
   "attachments": {},
   "cell_type": "markdown",
   "metadata": {},
   "source": [
    "Upsampling - It refers to increasing the number of samples of that class or category whose samples are less to match with the majority category. This can be done by replicating existing instances or generating synthetic samples based on the existing minority class instances.\n",
    "\n",
    "Downsampling - It refers to reducing the number of samples in the majority calss to match with the other class.\n",
    "\n",
    "Suppose we have a dataset for binary classification where the positive class (minority) has only 100 instances, while the negative class (majority) has 1000 instances. We can up-sample the positive class by replicating the existing 100 instances multiple times or by using synthetic data generation. This will increase the number of positive instances to match the 1000 instances of the negative class."
   ]
  },
  {
   "attachments": {},
   "cell_type": "markdown",
   "metadata": {},
   "source": [
    "**Q5: What is data Augmentation? Explain SMOTE.**"
   ]
  },
  {
   "attachments": {},
   "cell_type": "markdown",
   "metadata": {},
   "source": [
    "Data Augmentation refers to the techinque of increasing the size of the dataset by generating new samples that are slightly modified with the existing ones. This increases the diversity and variability of the traning data which can improve the performance and generalization.\n",
    "\n",
    "SMOTE is a technique used in Machine Learning to handle the imbalanced Dataset where the minority classes have significantly lesser instance than majority classes. It involves generating synthentic data points of the majority class by interpolating (creating our own synthetic data) between the existing instances."
   ]
  },
  {
   "attachments": {},
   "cell_type": "markdown",
   "metadata": {},
   "source": [
    "**Q6: What are outliers in a dataset? Why is it essential to handle outliers?**"
   ]
  },
  {
   "attachments": {},
   "cell_type": "markdown",
   "metadata": {},
   "source": [
    "Outliers  in the dataset refers to those data that deviate from the majority of the other data points. Handling outliers is essential because they can adversely affect statistical analyses, model performance, and data distributions. Outliers can skew the mean and standard deviation, influence regression coefficients, and affect the assumptions of various statistical methods. By handling outliers, we can ensure more accurate and robust analyses and modeling."
   ]
  },
  {
   "attachments": {},
   "cell_type": "markdown",
   "metadata": {},
   "source": [
    "**Q7: You are working on a project that requires analyzing customer data. However, you notice that some of the data is missing. What are some techniques you can use to handle the missing data in your analysis?**"
   ]
  },
  {
   "attachments": {},
   "cell_type": "markdown",
   "metadata": {},
   "source": [
    "I would use Imputation Technique on the dataset like mean value imputation which can be used on a normally distributed distribution and analyse through histplot. It there are outliers in the dataset i would use Median value imputation which is works well in outliers cases. For Categorical Data, Mode value imputation should be used.\n",
    "Using Domain knowlege we can remove the missing values with any constant data, replacing with mean value of that entire column."
   ]
  },
  {
   "attachments": {},
   "cell_type": "markdown",
   "metadata": {},
   "source": [
    "**Q8: You are working with a large dataset and find that a small percentage of the data is missing. What are some strategies you can use to determine if the missing data is missing at random or if there is a pattern to the missing data?**"
   ]
  },
  {
   "attachments": {},
   "cell_type": "markdown",
   "metadata": {},
   "source": [
    "Visual inspection: Analyze the missingness pattern visually by plotting missing data indicators against different variables or data points.\n",
    "Statistical tests: Perform statistical tests to assess the relationship between missingness and other variables.\n",
    "Imputation and analysis comparison: Compare the results of different imputation techniques or analyze the dataset with and without imputed values to observe any significant differences."
   ]
  },
  {
   "attachments": {},
   "cell_type": "markdown",
   "metadata": {},
   "source": [
    "**Q9: Suppose you are working on a medical diagnosis project and find that the majority of patients in the dataset do not have the condition of interest, while a small percentage do. What are some strategies you can use to evaluate the performance of your machine learning model on this imbalanced dataset?**"
   ]
  },
  {
   "attachments": {},
   "cell_type": "markdown",
   "metadata": {},
   "source": [
    "Confusion matrix and evaluation metrics: Use evaluation metrics like precision, recall, F1 score, and area under the ROC curve (AUC-ROC) to assess the model's performance.\n",
    "\n",
    "Resampling techniques: Employ resampling techniques like stratified sampling, cross-validation with appropriate class balancing, or use specialized techniques like SMOTE or ADASYN to generate synthetic samples."
   ]
  },
  {
   "attachments": {},
   "cell_type": "markdown",
   "metadata": {},
   "source": [
    "**Q10: When attempting to estimate customer satisfaction for a project, you discover that the dataset is\n",
    "unbalanced, with the bulk of customers reporting being satisfied. What methods can you employ to\n",
    "balance the dataset and down-sample the majority class?**"
   ]
  },
  {
   "attachments": {},
   "cell_type": "markdown",
   "metadata": {},
   "source": [
    "The common technique used for down-sampling a dataset is random under-sampling. In this technique, instances from the majority class are randomly selected and removed from the dataset to match the size of the minority class. The goal is to reduce the imbalance between the classes by reducing the number of instances in the majority class."
   ]
  },
  {
   "attachments": {},
   "cell_type": "markdown",
   "metadata": {},
   "source": [
    "**Q11: You discover that the dataset is unbalanced with a low percentage of occurrences while working on a project that requires you to estimate the occurrence of a rare event. What methods can you employ to balance the dataset and up-sample the minority class?**"
   ]
  },
  {
   "attachments": {},
   "cell_type": "markdown",
   "metadata": {},
   "source": [
    "In this case we can use SMOTE (Synthetic Minority Oversampling Technique) to handle the imbalanced Dataset where the minority classes have significantly lesser instance than majority classes. It involves generating synthentic data points of the minority class by interpolating (creating our own synthetic data) between the existing instances."
   ]
  },
  {
   "attachments": {},
   "cell_type": "markdown",
   "metadata": {},
   "source": []
  }
 ],
 "metadata": {
  "language_info": {
   "name": "python"
  },
  "orig_nbformat": 4
 },
 "nbformat": 4,
 "nbformat_minor": 2
}
